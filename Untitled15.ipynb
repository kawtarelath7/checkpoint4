{
 "cells": [
  {
   "cell_type": "code",
   "execution_count": 3,
   "id": "0895e5ca",
   "metadata": {},
   "outputs": [],
   "source": [
    "def max_valeur(a):\n",
    "    \n",
    "    l_max=0\n",
    "    i=0\n",
    "    while i<len(a):\n",
    "        if a[i]>l_max:\n",
    "            l_max= a[i]\n",
    "            i=i+1\n",
    "    print('le plus grand element est:', l_max)"
   ]
  },
  {
   "cell_type": "code",
   "execution_count": 2,
   "id": "36533edc",
   "metadata": {},
   "outputs": [
    {
     "data": {
      "text/plain": [
       "[(2, 1), (1, 2), (2, 3), (4, 4), (2, 5)]"
      ]
     },
     "execution_count": 2,
     "metadata": {},
     "output_type": "execute_result"
    }
   ],
   "source": [
    "sample2=[(2,5),(1,2),(4,4),(2,3),(2,1)]\n",
    "key=lambda x: x[1]\n",
    "result=sorted(sample2,key=lambda x: x[1])\n",
    "result"
   ]
  },
  {
   "cell_type": "code",
   "execution_count": 4,
   "id": "5ff60f05",
   "metadata": {},
   "outputs": [
    {
     "data": {
      "text/plain": [
       "(50, 30)"
      ]
     },
     "execution_count": 4,
     "metadata": {},
     "output_type": "execute_result"
    }
   ],
   "source": [
    "calculation =lambda a, b:(a+b ,a-b)\n",
    "calculation(40, 10)"
   ]
  },
  {
   "cell_type": "code",
   "execution_count": 5,
   "id": "fb351a7f",
   "metadata": {},
   "outputs": [],
   "source": [
    "def somme(l):\n",
    "    s=0\n",
    "    for e in l:\n",
    "        s=s+e\n",
    "    return s\n",
    "def multiplication(l):\n",
    "    s=1\n",
    "    for e in l:\n",
    "        s=s*e\n",
    "    return s\n"
   ]
  },
  {
   "cell_type": "code",
   "execution_count": 6,
   "id": "5b711131",
   "metadata": {},
   "outputs": [],
   "source": [
    "def ex3(l):\n",
    "    l_pair=[l[i] for i in range(len(l)) if i%2==0]\n",
    "    l_impair=[l[i] for i in range(len(l)) if i%2!=0]\n",
    "    return (somme(l_pair),multiplication(l_impair))"
   ]
  },
  {
   "cell_type": "code",
   "execution_count": null,
   "id": "6e6d3616",
   "metadata": {},
   "outputs": [],
   "source": []
  }
 ],
 "metadata": {
  "kernelspec": {
   "display_name": "Python 3 (ipykernel)",
   "language": "python",
   "name": "python3"
  },
  "language_info": {
   "codemirror_mode": {
    "name": "ipython",
    "version": 3
   },
   "file_extension": ".py",
   "mimetype": "text/x-python",
   "name": "python",
   "nbconvert_exporter": "python",
   "pygments_lexer": "ipython3",
   "version": "3.9.12"
  }
 },
 "nbformat": 4,
 "nbformat_minor": 5
}
